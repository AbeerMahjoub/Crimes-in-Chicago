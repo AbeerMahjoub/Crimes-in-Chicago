{
 "cells": [
  {
   "cell_type": "markdown",
   "metadata": {
    "id": "yKqJ-7I4IwFC"
   },
   "source": [
    "---\n",
    "\n",
    "## **I. Reading Crime Data**\n",
    "\n",
    "---"
   ]
  },
  {
   "cell_type": "code",
   "execution_count": 1,
   "metadata": {
    "executionInfo": {
     "elapsed": 859,
     "status": "ok",
     "timestamp": 1603578663993,
     "user": {
      "displayName": "Mohamed Desouky",
      "photoUrl": "",
      "userId": "09584093266469400790"
     },
     "user_tz": -120
    },
    "id": "SPz8O9YyCE9w"
   },
   "outputs": [],
   "source": [
    "# Comment:  Imports and Libraries\n",
    "# %pip install geopandas\n",
    "import geopandas as gpd\n",
    "import os\n",
    "import numpy as np\n",
    "import pandas as pd"
   ]
  },
  {
   "cell_type": "code",
   "execution_count": 4,
   "metadata": {
    "colab": {
     "base_uri": "https://localhost:8080/",
     "height": 34
    },
    "executionInfo": {
     "elapsed": 19867,
     "status": "ok",
     "timestamp": 1603578693792,
     "user": {
      "displayName": "Mohamed Desouky",
      "photoUrl": "",
      "userId": "09584093266469400790"
     },
     "user_tz": -120
    },
    "id": "SMi60JJcFDFF",
    "outputId": "e0dc3859-e043-4f54-8b39-783d2e812e02"
   },
   "outputs": [
    {
     "name": "stdout",
     "output_type": "stream",
     "text": [
      "Mounted at /content/drive\n"
     ]
    }
   ],
   "source": [
    "# Comment:  Mounting Google Drive\n",
    "from google.colab import drive\n",
    "drive.mount(\"/content/drive\", force_remount=True)"
   ]
  },
  {
   "cell_type": "code",
   "execution_count": 5,
   "metadata": {
    "colab": {
     "base_uri": "https://localhost:8080/",
     "height": 306
    },
    "executionInfo": {
     "elapsed": 57145,
     "status": "ok",
     "timestamp": 1603578755594,
     "user": {
      "displayName": "Mohamed Desouky",
      "photoUrl": "",
      "userId": "09584093266469400790"
     },
     "user_tz": -120
    },
    "id": "N82VCT2QC1iq",
    "outputId": "2a4f214b-e3bb-4879-be2e-6c9cd89f144d",
    "scrolled": true
   },
   "outputs": [
    {
     "name": "stdout",
     "output_type": "stream",
     "text": [
      "Reading Copy of Chicago_Crimes_2001_to_2004.csv file:\n"
     ]
    },
    {
     "name": "stderr",
     "output_type": "stream",
     "text": [
      "b'Skipping line 1513591: expected 23 fields, saw 24\\n'\n",
      "/usr/local/lib/python3.6/dist-packages/IPython/core/interactiveshell.py:2718: DtypeWarning: Columns (17,20) have mixed types.Specify dtype option on import or set low_memory=False.\n",
      "  interactivity=interactivity, compiler=compiler, result=result)\n"
     ]
    },
    {
     "name": "stdout",
     "output_type": "stream",
     "text": [
      "\n",
      "\n",
      "Reading Copy of Chicago_Crimes_2005_to_2007.csv file:\n"
     ]
    },
    {
     "name": "stderr",
     "output_type": "stream",
     "text": [
      "b'Skipping line 533719: expected 23 fields, saw 24\\n'\n"
     ]
    },
    {
     "name": "stdout",
     "output_type": "stream",
     "text": [
      "\n",
      "\n",
      "Reading Copy of Chicago_Crimes_2008_to_2011.csv file:\n"
     ]
    },
    {
     "name": "stderr",
     "output_type": "stream",
     "text": [
      "b'Skipping line 1149094: expected 23 fields, saw 41\\n'\n"
     ]
    },
    {
     "name": "stdout",
     "output_type": "stream",
     "text": [
      "\n",
      "\n",
      "Reading Copy of Chicago_Crimes_2012_to_2017.csv file:\n",
      "\n",
      "\n"
     ]
    }
   ],
   "source": [
    "# Chose this file path if your are going to work from Colab\n",
    "#data_path = '/content/drive/My Drive/Chicago Crime/'\n",
    "\n",
    "data_path = './Data/'\n",
    "\n",
    "# Data files (all years)\n",
    "csv_files = ['Chicago_Crimes_2001_to_2004.csv',\n",
    "             'Chicago_Crimes_2005_to_2007.csv',\n",
    "             'Chicago_Crimes_2008_to_2011.csv',\n",
    "             'Chicago_Crimes_2012_to_2017.csv',]\n",
    "\n",
    "# Dataframes list\n",
    "crimes = []\n",
    "# Read and append each CSV file to crimes\n",
    "for csv_file in csv_files:\n",
    "    print(f\"Reading {csv_file} file:\")\n",
    "    csv_file_path = data_path + csv_file\n",
    "    crimes.append(pd.read_csv(csv_file_path, error_bad_lines = False))\n",
    "    print('\\n')\n",
    "\n",
    "# All the crimes from 2001 to 2017\n",
    "all_crimes = pd.concat(crimes, ignore_index = True, axis = 0)"
   ]
  },
  {
   "cell_type": "markdown",
   "metadata": {
    "id": "yKqJ-7I4IwFC"
   },
   "source": [
    "---\n",
    "\n",
    "## **II. Preparing Crime Data**\n",
    "\n",
    "---"
   ]
  },
  {
   "cell_type": "markdown",
   "metadata": {
    "id": "SfxjmS66HvFX"
   },
   "source": [
    "**1. Drop Null values**\n",
    "\n",
    "---"
   ]
  },
  {
   "cell_type": "code",
   "execution_count": 6,
   "metadata": {
    "colab": {
     "base_uri": "https://localhost:8080/",
     "height": 51
    },
    "executionInfo": {
     "elapsed": 67652,
     "status": "ok",
     "timestamp": 1603578766122,
     "user": {
      "displayName": "Mohamed Desouky",
      "photoUrl": "",
      "userId": "09584093266469400790"
     },
     "user_tz": -120
    },
    "id": "3iB3rogEGIR8",
    "outputId": "14b22053-b328-4978-812f-c75e339914f8"
   },
   "outputs": [
    {
     "name": "stdout",
     "output_type": "stream",
     "text": [
      "Size of Records Before Dropping NaN = 7145213\n",
      "Size of Records After Dropping NaN = 7145213\n"
     ]
    }
   ],
   "source": [
    "## Remove NaN Values\n",
    "all_crimes.dropna(inplace = True)\n",
    "print(\"Size of Records Before Dropping NaN = %d\" % len(all_crimes))\n",
    "print(\"Size of Records After Dropping NaN = %d\" % len(all_crimes))"
   ]
  },
  {
   "cell_type": "markdown",
   "metadata": {
    "id": "SfxjmS66HvFX"
   },
   "source": [
    "**2. Data Profiling**\n",
    "\n",
    "---"
   ]
  },
  {
   "cell_type": "code",
   "execution_count": 7,
   "metadata": {
    "colab": {
     "base_uri": "https://localhost:8080/",
     "height": 850
    },
    "executionInfo": {
     "elapsed": 69450,
     "status": "ok",
     "timestamp": 1603578767933,
     "user": {
      "displayName": "Mohamed Desouky",
      "photoUrl": "",
      "userId": "09584093266469400790"
     },
     "user_tz": -120
    },
    "id": "mv-USsmNFPrh",
    "outputId": "704cbc45-56b3-48b4-88d1-93c525eeecc2"
   },
   "outputs": [
    {
     "name": "stdout",
     "output_type": "stream",
     "text": [
      "Memory usage of properties dataframe is : 1212.928689956665  MB\n",
      "******************************\n",
      "Column:  Unnamed: 0\n",
      "dtype before:  int64\n",
      "dtype after:  uint32\n",
      "******************************\n",
      "******************************\n",
      "Column:  ID\n",
      "dtype before:  int64\n",
      "dtype after:  uint32\n",
      "******************************\n",
      "******************************\n",
      "Column:  Beat\n",
      "dtype before:  int64\n",
      "dtype after:  uint16\n",
      "******************************\n",
      "******************************\n",
      "Column:  District\n",
      "dtype before:  float64\n",
      "dtype after:  uint8\n",
      "******************************\n",
      "******************************\n",
      "Column:  Ward\n",
      "dtype before:  float64\n",
      "dtype after:  uint8\n",
      "******************************\n",
      "******************************\n",
      "Column:  Community Area\n",
      "dtype before:  float64\n",
      "dtype after:  uint8\n",
      "******************************\n",
      "******************************\n",
      "Column:  X Coordinate\n",
      "dtype before:  float64\n",
      "dtype after:  uint32\n",
      "******************************\n",
      "******************************\n",
      "Column:  Year\n",
      "dtype before:  float64\n",
      "dtype after:  uint16\n",
      "******************************\n",
      "******************************\n",
      "Column:  Longitude\n",
      "dtype before:  float64\n",
      "dtype after:  float32\n",
      "******************************\n",
      "___MEMORY USAGE AFTER COMPLETION:___\n",
      "Memory usage is:  879.0325899124146  MB\n",
      "This is  72.47191011235955 % of the initial size\n"
     ]
    }
   ],
   "source": [
    "# Reduce momery size by using a Data Profiling function\n",
    "# lifted from https://www.kaggle.com/arjanso/reducing-dataframe-memory-size-by-65\n",
    "def reduce_mem_usage(props):\n",
    "    start_mem_usg = props.memory_usage().sum() / 1024**2 # Memory Usage by Migabytes\n",
    "    print(\"Memory usage of properties dataframe is :\",start_mem_usg,\" MB\")\n",
    "    NAlist = [] # Keeps track of columns that have missing values filled in. \n",
    "    for col in props.columns:\n",
    "        if props[col].dtype not in [object, bool]:  # Exclude strings\n",
    "            \n",
    "            # Print current column type\n",
    "            print(\"******************************\")\n",
    "            print(\"Column: \",col)\n",
    "            print(\"dtype before: \",props[col].dtype)\n",
    "            \n",
    "            # make variables for Int, max and min\n",
    "            IsInt = False\n",
    "            mx = props[col].max()\n",
    "            mn = props[col].min()\n",
    "            '''\n",
    "            # Integer does not support NA, therefore, NA needs to be filled\n",
    "            if not np.isfinite(props[col]).all(): \n",
    "                NAlist.append(col)\n",
    "                props[col].fillna(mn-1,inplace=True) \n",
    "            '''\n",
    "                   \n",
    "            # test if column can be converted to an integer\n",
    "            asint = props[col].fillna(0).astype(np.int64)\n",
    "            result = (props[col] - asint)\n",
    "            result = result.sum()\n",
    "            if result > -0.01 and result < 0.01:\n",
    "                IsInt = True\n",
    "            \n",
    "            # Make Integer/unsigned Integer datatypes\n",
    "            if IsInt:\n",
    "                if mn >= 0:\n",
    "                    if mx < 255:\n",
    "                        props[col] = props[col].astype(np.uint8)\n",
    "                    elif mx < 65535:\n",
    "                        props[col] = props[col].astype(np.uint16)\n",
    "                    elif mx < 4294967295:\n",
    "                        props[col] = props[col].astype(np.uint32)\n",
    "                    else:\n",
    "                        props[col] = props[col].astype(np.uint64)\n",
    "                else: # Assign Int type to each Int category\n",
    "                    if mn > np.iinfo(np.int8).min and mx < np.iinfo(np.int8).max:\n",
    "                        props[col] = props[col].astype(np.int8)\n",
    "                    elif mn > np.iinfo(np.int16).min and mx < np.iinfo(np.int16).max:\n",
    "                        props[col] = props[col].astype(np.int16)\n",
    "                    elif mn > np.iinfo(np.int32).min and mx < np.iinfo(np.int32).max:\n",
    "                        props[col] = props[col].astype(np.int32)\n",
    "                    elif mn > np.iinfo(np.int64).min and mx < np.iinfo(np.int64).max:\n",
    "                        props[col] = props[col].astype(np.int64)\n",
    "                    \n",
    "            # Make float datatypes 32 bit\n",
    "            else:\n",
    "                props[col] = props[col].astype(np.float32)\n",
    "            \n",
    "            # Print new column type\n",
    "            print(\"dtype after: \",props[col].dtype)\n",
    "            print(\"******************************\")\n",
    "    \n",
    "    # Print final result\n",
    "    print(\"___MEMORY USAGE AFTER COMPLETION:___\")\n",
    "    mem_usg = props.memory_usage().sum() / 1024**2 \n",
    "    print(\"Memory usage is: \",mem_usg,\" MB\")\n",
    "    print(\"This is \",100*mem_usg/start_mem_usg,\"% of the initial size\")\n",
    "    \n",
    "reduce_mem_usage(all_crimes)"
   ]
  },
  {
   "cell_type": "markdown",
   "metadata": {
    "id": "SfxjmS66HvFX"
   },
   "source": [
    "**3. Remove Duplicates**\n",
    "\n",
    "---"
   ]
  },
  {
   "cell_type": "code",
   "execution_count": 8,
   "metadata": {
    "colab": {
     "base_uri": "https://localhost:8080/",
     "height": 51
    },
    "executionInfo": {
     "elapsed": 71809,
     "status": "ok",
     "timestamp": 1603578770304,
     "user": {
      "displayName": "Mohamed Desouky",
      "photoUrl": "",
      "userId": "09584093266469400790"
     },
     "user_tz": -120
    },
    "id": "VgWZJ0FTFfMB",
    "outputId": "a66a90bd-85ac-419b-d3d0-e922f4c2002b"
   },
   "outputs": [
    {
     "name": "stdout",
     "output_type": "stream",
     "text": [
      "Size of initial Records = 7145213\n",
      "Size of Records After Duplicate Removal = 5478329\n"
     ]
    }
   ],
   "source": [
    "print(\"Size of initial Records = %d\" % len(all_crimes))\n",
    "\n",
    "all_crimes.drop_duplicates(subset = \"ID\", inplace = True)\n",
    "print(\"Size of Records After Duplicate Removal = %d\" % len(all_crimes))"
   ]
  },
  {
   "cell_type": "markdown",
   "metadata": {
    "id": "1ODjc-fXIfTB"
   },
   "source": [
    "**4. Remove Undefined Locations**\n",
    "\n",
    "---"
   ]
  },
  {
   "cell_type": "code",
   "execution_count": 9,
   "metadata": {
    "colab": {
     "base_uri": "https://localhost:8080/",
     "height": 34
    },
    "executionInfo": {
     "elapsed": 74698,
     "status": "ok",
     "timestamp": 1603578773212,
     "user": {
      "displayName": "Mohamed Desouky",
      "photoUrl": "",
      "userId": "09584093266469400790"
     },
     "user_tz": -120
    },
    "id": "KfI-EH8XFi3R",
    "outputId": "8c5566a8-7033-46d3-9058-7619cb532298"
   },
   "outputs": [
    {
     "name": "stdout",
     "output_type": "stream",
     "text": [
      "Size of Records After Dropping Undefined Locations = 5478156\n"
     ]
    }
   ],
   "source": [
    "all_crimes = all_crimes[((all_crimes['X Coordinate'] != 0) & (all_crimes['Y Coordinate'] != 0))]\n",
    "all_crimes = all_crimes[((all_crimes['Longitude'] != 0) & (all_crimes['Latitude'] != 0))]\n",
    "print(\"Size of Records After Dropping Undefined Locations = %d\" % len(all_crimes))"
   ]
  },
  {
   "cell_type": "markdown",
   "metadata": {
    "id": "8haa_CjsIkfB"
   },
   "source": [
    "**5. Create Backup**\n",
    "\n",
    "---"
   ]
  },
  {
   "cell_type": "code",
   "execution_count": 10,
   "metadata": {
    "executionInfo": {
     "elapsed": 74964,
     "status": "ok",
     "timestamp": 1603578773496,
     "user": {
      "displayName": "Mohamed Desouky",
      "photoUrl": "",
      "userId": "09584093266469400790"
     },
     "user_tz": -120
    },
    "id": "Acdu4J_eIUjb"
   },
   "outputs": [],
   "source": [
    "backup = all_crimes.copy()"
   ]
  },
  {
   "cell_type": "markdown",
   "metadata": {
    "id": "yKqJ-7I4IwFC"
   },
   "source": [
    "---\n",
    "\n",
    "## **III. Preprocessing Crime Data**\n",
    "\n",
    "---"
   ]
  },
  {
   "cell_type": "markdown",
   "metadata": {
    "id": "Cf51gh2DIyIy"
   },
   "source": [
    "**1. Convert the daata format**\n",
    "\n",
    "---"
   ]
  },
  {
   "cell_type": "code",
   "execution_count": 11,
   "metadata": {
    "executionInfo": {
     "elapsed": 86560,
     "status": "ok",
     "timestamp": 1603578785104,
     "user": {
      "displayName": "Mohamed Desouky",
      "photoUrl": "",
      "userId": "09584093266469400790"
     },
     "user_tz": -120
    },
    "id": "IKdZioGOImeq"
   },
   "outputs": [],
   "source": [
    "all_crimes.Date = pd.to_datetime(all_crimes.Date, format ='%m/%d/%Y %I:%M:%S %p')\n",
    "all_crimes.index = pd.DatetimeIndex(all_crimes.Date)"
   ]
  },
  {
   "cell_type": "markdown",
   "metadata": {
    "id": "Vh7-aNsfJKop"
   },
   "source": [
    "**2. Select Most Common Crime Locations and Descriptions**\n",
    "\n",
    "---"
   ]
  },
  {
   "cell_type": "code",
   "execution_count": 12,
   "metadata": {
    "colab": {
     "base_uri": "https://localhost:8080/",
     "height": 663
    },
    "executionInfo": {
     "elapsed": 89862,
     "status": "ok",
     "timestamp": 1603578788417,
     "user": {
      "displayName": "Mohamed Desouky",
      "photoUrl": "",
      "userId": "09584093266469400790"
     },
     "user_tz": -120
    },
    "id": "ryNpsArGI76p",
    "outputId": "efdaab20-0a6c-4377-ef2a-eee9c37df37b"
   },
   "outputs": [
    {
     "name": "stdout",
     "output_type": "stream",
     "text": [
      "STREET                 1432686\n",
      "RESIDENCE               905000\n",
      "APARTMENT               581886\n",
      "SIDEWALK                576202\n",
      "OTHER                   201138\n",
      "                        ...   \n",
      "BANQUET HALL                 1\n",
      "LIVERY AUTO                  1\n",
      "GOVERNMENT BUILDING          1\n",
      "TRUCKING TERMINAL            1\n",
      "LOADING DOCK                 1\n",
      "Name: Location Description, Length: 170, dtype: int64\n",
      "STREET                            1432686\n",
      "RESIDENCE                          905000\n",
      "OTHER                              605833\n",
      "APARTMENT                          581886\n",
      "SIDEWALK                           576202\n",
      "PARKING LOT/GARAGE(NON.RESID.)     155045\n",
      "ALLEY                              125094\n",
      "SCHOOL, PUBLIC, BUILDING           117928\n",
      "RESIDENCE-GARAGE                   108567\n",
      "RESIDENCE PORCH/HALLWAY             96061\n",
      "SMALL RETAIL STORE                  94339\n",
      "VEHICLE NON-COMMERCIAL              91024\n",
      "RESTAURANT                          81654\n",
      "GROCERY FOOD STORE                  68260\n",
      "DEPARTMENT STORE                    65670\n",
      "RESIDENTIAL YARD (FRONT/BACK)       58933\n",
      "GAS STATION                         57725\n",
      "PARK PROPERTY                       43169\n",
      "CHA PARKING LOT/GROUNDS             41632\n",
      "COMMERCIAL / BUSINESS OFFICE        37879\n",
      "CTA PLATFORM                        29905\n",
      "BAR OR TAVERN                       29167\n",
      "CHA APARTMENT                       26265\n",
      "DRUG STORE                          24234\n",
      "SCHOOL, PUBLIC, GROUNDS             23998\n",
      "Name: Location Description, dtype: int64\n"
     ]
    }
   ],
   "source": [
    "selectedCategories = 25\n",
    "print(all_crimes['Location Description'].value_counts())\n",
    "\n",
    "# Comment:  Find most common\n",
    "mostFrequentLocations  = list(all_crimes['Location Description'].value_counts()[:selectedCategories].index)\n",
    "mostFrequentDescription= list(all_crimes['Description'].value_counts()[:selectedCategories].index)\n",
    "\n",
    "# Comment:  Replace other locations with 'OTHER'\n",
    "all_crimes.loc[~all_crimes['Location Description'].isin(mostFrequentLocations) , all_crimes.columns=='Location Description'] = 'OTHER'\n",
    "all_crimes.loc[~all_crimes['Description'].isin(mostFrequentLocations) , all_crimes.columns=='Description'] = 'OTHER'\n",
    "print(all_crimes['Location Description'].value_counts())"
   ]
  },
  {
   "cell_type": "markdown",
   "metadata": {
    "id": "6W6G2maXJU8v"
   },
   "source": [
    "**3. Convert Column Types into Categorical**\n",
    "\n",
    "---"
   ]
  },
  {
   "cell_type": "code",
   "execution_count": 13,
   "metadata": {
    "executionInfo": {
     "elapsed": 91583,
     "status": "ok",
     "timestamp": 1603578790153,
     "user": {
      "displayName": "Mohamed Desouky",
      "photoUrl": "",
      "userId": "09584093266469400790"
     },
     "user_tz": -120
    },
    "id": "J8cN3gCXJFFZ"
   },
   "outputs": [],
   "source": [
    "all_crimes['Primary Type']         = pd.Categorical(all_crimes['Primary Type'])\n",
    "all_crimes['Location Description'] = pd.Categorical(all_crimes['Location Description'])"
   ]
  },
  {
   "cell_type": "markdown",
   "metadata": {
    "id": "Wtaw6Wh2Jcpf"
   },
   "source": [
    "**4. Remove Unnecessary Columns**\n",
    "\n",
    "---"
   ]
  },
  {
   "cell_type": "code",
   "execution_count": 14,
   "metadata": {
    "executionInfo": {
     "elapsed": 92119,
     "status": "ok",
     "timestamp": 1603578790707,
     "user": {
      "displayName": "Mohamed Desouky",
      "photoUrl": "",
      "userId": "09584093266469400790"
     },
     "user_tz": -120
    },
    "id": "uOiwndBNJb3o"
   },
   "outputs": [],
   "source": [
    "all_crimes.drop(['Unnamed: 0', 'Case Number', 'IUCR','Updated On',\n",
    "                 'FBI Code', 'Beat', 'Ward', 'Description'], inplace = True, axis = 1)"
   ]
  },
  {
   "cell_type": "markdown",
   "metadata": {
    "id": "o4_rWLLlMfsB"
   },
   "source": [
    "**5. Modify Column Names**\n",
    "\n",
    "---"
   ]
  },
  {
   "cell_type": "code",
   "execution_count": 15,
   "metadata": {
    "colab": {
     "base_uri": "https://localhost:8080/",
     "height": 85
    },
    "executionInfo": {
     "elapsed": 92116,
     "status": "ok",
     "timestamp": 1603578790709,
     "user": {
      "displayName": "Mohamed Desouky",
      "photoUrl": "",
      "userId": "09584093266469400790"
     },
     "user_tz": -120
    },
    "id": "IE9lJxGQJtxo",
    "outputId": "ad38a3c4-185f-47a0-e8c1-1f3721a4df7a"
   },
   "outputs": [
    {
     "data": {
      "text/plain": [
       "Index(['id', 'date', 'block', 'primary_type', 'location_description', 'arrest',\n",
       "       'domestic', 'district', 'community_area', 'x_coordinate',\n",
       "       'y_coordinate', 'year', 'latitude', 'longitude', 'location'],\n",
       "      dtype='object')"
      ]
     },
     "execution_count": 15,
     "metadata": {
      "tags": []
     },
     "output_type": "execute_result"
    }
   ],
   "source": [
    "all_crimes.columns = pd.Series(all_crimes.columns).apply(lambda x: x.replace(' ', '_').lower())\n",
    "all_crimes.columns"
   ]
  },
  {
   "cell_type": "markdown",
   "metadata": {
    "id": "5WuMnXsmMoN4"
   },
   "source": [
    "**6. Modify Categorical Variables Values**\n",
    "\n",
    "---"
   ]
  },
  {
   "cell_type": "code",
   "execution_count": 16,
   "metadata": {
    "executionInfo": {
     "elapsed": 94389,
     "status": "ok",
     "timestamp": 1603578793001,
     "user": {
      "displayName": "Mohamed Desouky",
      "photoUrl": "",
      "userId": "09584093266469400790"
     },
     "user_tz": -120
    },
    "id": "Lp2JyU1GLEnl"
   },
   "outputs": [],
   "source": [
    "cate_vars = ['block', 'primary_type', 'location_description']\n",
    "for var in cate_vars:\n",
    "  all_crimes[var] = all_crimes[var].apply(lambda x: x.title())"
   ]
  },
  {
   "cell_type": "markdown",
   "metadata": {
    "id": "MVySjz_5NSAH"
   },
   "source": [
    "**7. Drop Date Index**\n",
    "\n",
    "---"
   ]
  },
  {
   "cell_type": "code",
   "execution_count": 17,
   "metadata": {
    "executionInfo": {
     "elapsed": 94378,
     "status": "ok",
     "timestamp": 1603578793004,
     "user": {
      "displayName": "Mohamed Desouky",
      "photoUrl": "",
      "userId": "09584093266469400790"
     },
     "user_tz": -120
    },
    "id": "RUbg6s60MU9r"
   },
   "outputs": [],
   "source": [
    "all_crimes.reset_index(inplace=True, drop=True)"
   ]
  },
  {
   "cell_type": "markdown",
   "metadata": {
    "id": "DDyuYAY5O4ws"
   },
   "source": [
    "**8. Add Month Variable**\n",
    "\n",
    "---"
   ]
  },
  {
   "cell_type": "code",
   "execution_count": 18,
   "metadata": {
    "executionInfo": {
     "elapsed": 122969,
     "status": "ok",
     "timestamp": 1603578821614,
     "user": {
      "displayName": "Mohamed Desouky",
      "photoUrl": "",
      "userId": "09584093266469400790"
     },
     "user_tz": -120
    },
    "id": "MNSZKOOPM9zR"
   },
   "outputs": [],
   "source": [
    "all_crimes['month'] = all_crimes.date.dt.strftime(\"%b\")"
   ]
  },
  {
   "cell_type": "markdown",
   "metadata": {
    "id": "4APuVYmhV3ht"
   },
   "source": [
    "**9. Add Day Variable**\n",
    "\n",
    "---"
   ]
  },
  {
   "cell_type": "code",
   "execution_count": 19,
   "metadata": {
    "executionInfo": {
     "elapsed": 123487,
     "status": "ok",
     "timestamp": 1603578822162,
     "user": {
      "displayName": "Mohamed Desouky",
      "photoUrl": "",
      "userId": "09584093266469400790"
     },
     "user_tz": -120
    },
    "id": "GAifvmsWV20t"
   },
   "outputs": [],
   "source": [
    "all_crimes['day'] = all_crimes.date.dt.day"
   ]
  },
  {
   "cell_type": "markdown",
   "metadata": {
    "id": "T7tpoXI3KTnP"
   },
   "source": [
    "**10. Add Weekday Variable**\n",
    "\n",
    "---"
   ]
  },
  {
   "cell_type": "code",
   "execution_count": 20,
   "metadata": {
    "executionInfo": {
     "elapsed": 152524,
     "status": "ok",
     "timestamp": 1603578851213,
     "user": {
      "displayName": "Mohamed Desouky",
      "photoUrl": "",
      "userId": "09584093266469400790"
     },
     "user_tz": -120
    },
    "id": "Kqb3jdMAKdR3"
   },
   "outputs": [],
   "source": [
    "all_crimes['weekday'] = all_crimes.date.dt.strftime(\"%a\")"
   ]
  },
  {
   "cell_type": "markdown",
   "metadata": {
    "id": "UjPSMfA_YhOk"
   },
   "source": [
    "\n",
    "\n",
    "```\n",
    "# This is formatted as code\n",
    "```\n",
    "\n",
    "**11. Splitting the Data into 5 Datasets Crimes, Locations, Dates, Coordinates and Top Danger Locations**\n",
    "\n",
    "---"
   ]
  },
  {
   "cell_type": "code",
   "execution_count": 21,
   "metadata": {
    "executionInfo": {
     "elapsed": 154872,
     "status": "ok",
     "timestamp": 1603578853570,
     "user": {
      "displayName": "Mohamed Desouky",
      "photoUrl": "",
      "userId": "09584093266469400790"
     },
     "user_tz": -120
    },
    "id": "dJGpTcWVWU_N"
   },
   "outputs": [],
   "source": [
    "# Crimes Dataset\n",
    "crime_var_names = list(all_crimes.loc[:,'id':'domestic'])\n",
    "crime_var_names = [var for var in crime_var_names if var not in ['date', 'block']]\n",
    "crimes = all_crimes[crime_var_names]\n",
    "\n",
    "# Locations Dataset\n",
    "loc_var_names = ['block'] + list(all_crimes.loc[:,'district':'location'])\n",
    "loc_var_names = [var for var in loc_var_names if var not in ['year', 'x_coordinate',\t'y_coordinate']]\n",
    "locations =  all_crimes[['id'] + loc_var_names]\n",
    "\n",
    "# Dates Dataset\n",
    "dates = all_crimes[['id', 'date', 'year', 'month', 'day', 'weekday']]\n",
    "\n",
    "# Coordinates Dataset\n",
    "coordinates = all_crimes[['id', 'x_coordinate', 'y_coordinate']]"
   ]
  },
  {
   "cell_type": "code",
   "execution_count": 22,
   "metadata": {
    "colab": {
     "base_uri": "https://localhost:8080/",
     "height": 233
    },
    "executionInfo": {
     "elapsed": 154871,
     "status": "ok",
     "timestamp": 1603578853578,
     "user": {
      "displayName": "Mohamed Desouky",
      "photoUrl": "",
      "userId": "09584093266469400790"
     },
     "user_tz": -120
    },
    "id": "IP6c_FFvSPsp",
    "outputId": "f6440475-0f8a-46db-e553-43dcc9185ad3",
    "scrolled": true
   },
   "outputs": [
    {
     "data": {
      "text/html": [
       "<div>\n",
       "<style scoped>\n",
       "    .dataframe tbody tr th:only-of-type {\n",
       "        vertical-align: middle;\n",
       "    }\n",
       "\n",
       "    .dataframe tbody tr th {\n",
       "        vertical-align: top;\n",
       "    }\n",
       "\n",
       "    .dataframe thead th {\n",
       "        text-align: right;\n",
       "    }\n",
       "</style>\n",
       "<table border=\"1\" class=\"dataframe\">\n",
       "  <thead>\n",
       "    <tr style=\"text-align: right;\">\n",
       "      <th></th>\n",
       "      <th>id</th>\n",
       "      <th>date</th>\n",
       "      <th>block</th>\n",
       "      <th>primary_type</th>\n",
       "      <th>location_description</th>\n",
       "      <th>arrest</th>\n",
       "      <th>domestic</th>\n",
       "      <th>district</th>\n",
       "      <th>community_area</th>\n",
       "      <th>x_coordinate</th>\n",
       "      <th>y_coordinate</th>\n",
       "      <th>year</th>\n",
       "      <th>latitude</th>\n",
       "      <th>longitude</th>\n",
       "      <th>location</th>\n",
       "      <th>month</th>\n",
       "      <th>day</th>\n",
       "      <th>weekday</th>\n",
       "    </tr>\n",
       "  </thead>\n",
       "  <tbody>\n",
       "    <tr>\n",
       "      <th>0</th>\n",
       "      <td>4676906</td>\n",
       "      <td>2003-03-01 00:00:00</td>\n",
       "      <td>004Xx W 42Nd Pl</td>\n",
       "      <td>Other Offense</td>\n",
       "      <td>Residence</td>\n",
       "      <td>False</td>\n",
       "      <td>True</td>\n",
       "      <td>9</td>\n",
       "      <td>61</td>\n",
       "      <td>1173974</td>\n",
       "      <td>1.87676e+06</td>\n",
       "      <td>2003</td>\n",
       "      <td>41.8172</td>\n",
       "      <td>-87.637329</td>\n",
       "      <td>(41.817229156, -87.637328162)</td>\n",
       "      <td>Mar</td>\n",
       "      <td>1</td>\n",
       "      <td>Sat</td>\n",
       "    </tr>\n",
       "    <tr>\n",
       "      <th>1</th>\n",
       "      <td>4677901</td>\n",
       "      <td>2003-05-01 01:00:00</td>\n",
       "      <td>111Xx S Normal Ave</td>\n",
       "      <td>Theft</td>\n",
       "      <td>Residence</td>\n",
       "      <td>False</td>\n",
       "      <td>False</td>\n",
       "      <td>22</td>\n",
       "      <td>49</td>\n",
       "      <td>1174948</td>\n",
       "      <td>1.83105e+06</td>\n",
       "      <td>2003</td>\n",
       "      <td>41.6918</td>\n",
       "      <td>-87.635117</td>\n",
       "      <td>(41.691784636, -87.635115968)</td>\n",
       "      <td>May</td>\n",
       "      <td>1</td>\n",
       "      <td>Thu</td>\n",
       "    </tr>\n",
       "  </tbody>\n",
       "</table>\n",
       "</div>"
      ],
      "text/plain": [
       "        id                date               block  ... month day  weekday\n",
       "0  4676906 2003-03-01 00:00:00     004Xx W 42Nd Pl  ...   Mar   1      Sat\n",
       "1  4677901 2003-05-01 01:00:00  111Xx S Normal Ave  ...   May   1      Thu\n",
       "\n",
       "[2 rows x 18 columns]"
      ]
     },
     "execution_count": 22,
     "metadata": {
      "tags": []
     },
     "output_type": "execute_result"
    }
   ],
   "source": [
    "all_crimes.head(2)"
   ]
  },
  {
   "cell_type": "markdown",
   "metadata": {
    "id": "VKjk8QflyihQ"
   },
   "source": [
    "**12. Extracting The Most Dangerous Locations**\n",
    "\n",
    "---\n",
    "\n"
   ]
  },
  {
   "cell_type": "code",
   "execution_count": 45,
   "metadata": {
    "colab": {
     "base_uri": "https://localhost:8080/",
     "height": 323
    },
    "executionInfo": {
     "elapsed": 4716,
     "status": "ok",
     "timestamp": 1603579344288,
     "user": {
      "displayName": "Mohamed Desouky",
      "photoUrl": "",
      "userId": "09584093266469400790"
     },
     "user_tz": -120
    },
    "id": "95YxfnogvF3b",
    "outputId": "dec91637-2adf-4607-fab6-4a3b194434d4",
    "scrolled": true
   },
   "outputs": [
    {
     "name": "stderr",
     "output_type": "stream",
     "text": [
      "/usr/local/lib/python3.6/dist-packages/ipykernel_launcher.py:1: SettingWithCopyWarning: \n",
      "A value is trying to be set on a copy of a slice from a DataFrame.\n",
      "Try using .loc[row_indexer,col_indexer] = value instead\n",
      "\n",
      "See the caveats in the documentation: https://pandas.pydata.org/pandas-docs/stable/user_guide/indexing.html#returning-a-view-versus-a-copy\n",
      "  \"\"\"Entry point for launching an IPython kernel.\n",
      "/usr/local/lib/python3.6/dist-packages/ipykernel_launcher.py:2: SettingWithCopyWarning: \n",
      "A value is trying to be set on a copy of a slice from a DataFrame.\n",
      "Try using .loc[row_indexer,col_indexer] = value instead\n",
      "\n",
      "See the caveats in the documentation: https://pandas.pydata.org/pandas-docs/stable/user_guide/indexing.html#returning-a-view-versus-a-copy\n",
      "  \n",
      "/usr/local/lib/python3.6/dist-packages/ipykernel_launcher.py:4: SettingWithCopyWarning: \n",
      "A value is trying to be set on a copy of a slice from a DataFrame.\n",
      "Try using .loc[row_indexer,col_indexer] = value instead\n",
      "\n",
      "See the caveats in the documentation: https://pandas.pydata.org/pandas-docs/stable/user_guide/indexing.html#returning-a-view-versus-a-copy\n",
      "  after removing the cwd from sys.path.\n"
     ]
    }
   ],
   "source": [
    "coordinates['y_coordinate'] = coordinates['y_coordinate'].astype('float').astype('int')\n",
    "coordinates['x_coordinate'] = coordinates['x_coordinate'].astype('int')\n",
    "\n",
    "coordinates['id_loc'] = coordinates['x_coordinate'].astype('str') + '_' + coordinates['y_coordinate'].astype('str')"
   ]
  },
  {
   "cell_type": "code",
   "execution_count": 49,
   "metadata": {
    "colab": {
     "base_uri": "https://localhost:8080/",
     "height": 419
    },
    "executionInfo": {
     "elapsed": 5410,
     "status": "ok",
     "timestamp": 1603579460502,
     "user": {
      "displayName": "Mohamed Desouky",
      "photoUrl": "",
      "userId": "09584093266469400790"
     },
     "user_tz": -120
    },
    "id": "jWS1yZXOw_CI",
    "outputId": "f71346a7-989c-4d39-d776-1b62cc79f20c"
   },
   "outputs": [
    {
     "data": {
      "text/html": [
       "<div>\n",
       "<style scoped>\n",
       "    .dataframe tbody tr th:only-of-type {\n",
       "        vertical-align: middle;\n",
       "    }\n",
       "\n",
       "    .dataframe tbody tr th {\n",
       "        vertical-align: top;\n",
       "    }\n",
       "\n",
       "    .dataframe thead th {\n",
       "        text-align: right;\n",
       "    }\n",
       "</style>\n",
       "<table border=\"1\" class=\"dataframe\">\n",
       "  <thead>\n",
       "    <tr style=\"text-align: right;\">\n",
       "      <th></th>\n",
       "      <th>id_loc</th>\n",
       "      <th>count</th>\n",
       "      <th>x_coordinate</th>\n",
       "      <th>y_coordinate</th>\n",
       "    </tr>\n",
       "  </thead>\n",
       "  <tbody>\n",
       "    <tr>\n",
       "      <th>0</th>\n",
       "      <td>1100658_1934241</td>\n",
       "      <td>11867</td>\n",
       "      <td>1100658</td>\n",
       "      <td>1934241</td>\n",
       "    </tr>\n",
       "    <tr>\n",
       "      <th>1</th>\n",
       "      <td>1145727_1853720</td>\n",
       "      <td>8562</td>\n",
       "      <td>1145727</td>\n",
       "      <td>1853720</td>\n",
       "    </tr>\n",
       "    <tr>\n",
       "      <th>2</th>\n",
       "      <td>1176352_1900927</td>\n",
       "      <td>5851</td>\n",
       "      <td>1176352</td>\n",
       "      <td>1900927</td>\n",
       "    </tr>\n",
       "    <tr>\n",
       "      <th>3</th>\n",
       "      <td>1177338_1906181</td>\n",
       "      <td>3619</td>\n",
       "      <td>1177338</td>\n",
       "      <td>1906181</td>\n",
       "    </tr>\n",
       "    <tr>\n",
       "      <th>4</th>\n",
       "      <td>1176223_1905805</td>\n",
       "      <td>2820</td>\n",
       "      <td>1176223</td>\n",
       "      <td>1905805</td>\n",
       "    </tr>\n",
       "    <tr>\n",
       "      <th>...</th>\n",
       "      <td>...</td>\n",
       "      <td>...</td>\n",
       "      <td>...</td>\n",
       "      <td>...</td>\n",
       "    </tr>\n",
       "    <tr>\n",
       "      <th>95</th>\n",
       "      <td>1168812_1929247</td>\n",
       "      <td>1053</td>\n",
       "      <td>1168812</td>\n",
       "      <td>1929247</td>\n",
       "    </tr>\n",
       "    <tr>\n",
       "      <th>96</th>\n",
       "      <td>1175696_1895352</td>\n",
       "      <td>1033</td>\n",
       "      <td>1175696</td>\n",
       "      <td>1895352</td>\n",
       "    </tr>\n",
       "    <tr>\n",
       "      <th>97</th>\n",
       "      <td>1160001_1867170</td>\n",
       "      <td>1032</td>\n",
       "      <td>1160001</td>\n",
       "      <td>1867170</td>\n",
       "    </tr>\n",
       "    <tr>\n",
       "      <th>98</th>\n",
       "      <td>1180172_1881335</td>\n",
       "      <td>1026</td>\n",
       "      <td>1180172</td>\n",
       "      <td>1881335</td>\n",
       "    </tr>\n",
       "    <tr>\n",
       "      <th>99</th>\n",
       "      <td>1176417_1899156</td>\n",
       "      <td>1023</td>\n",
       "      <td>1176417</td>\n",
       "      <td>1899156</td>\n",
       "    </tr>\n",
       "  </tbody>\n",
       "</table>\n",
       "<p>100 rows × 4 columns</p>\n",
       "</div>"
      ],
      "text/plain": [
       "             id_loc  count  x_coordinate  y_coordinate\n",
       "0   1100658_1934241  11867       1100658       1934241\n",
       "1   1145727_1853720   8562       1145727       1853720\n",
       "2   1176352_1900927   5851       1176352       1900927\n",
       "3   1177338_1906181   3619       1177338       1906181\n",
       "4   1176223_1905805   2820       1176223       1905805\n",
       "..              ...    ...           ...           ...\n",
       "95  1168812_1929247   1053       1168812       1929247\n",
       "96  1175696_1895352   1033       1175696       1895352\n",
       "97  1160001_1867170   1032       1160001       1867170\n",
       "98  1180172_1881335   1026       1180172       1881335\n",
       "99  1176417_1899156   1023       1176417       1899156\n",
       "\n",
       "[100 rows x 4 columns]"
      ]
     },
     "execution_count": 49,
     "metadata": {
      "tags": []
     },
     "output_type": "execute_result"
    }
   ],
   "source": [
    "num_locations = 100\n",
    "\n",
    "top_danger_locs = coordinates.id_loc.value_counts()[:num_locations].reset_index()\n",
    "top_danger_locs.rename(columns={'id_loc': 'count', 'index': 'id_loc'}, inplace=True)\n",
    "top_danger_locs = top_danger_locs.merge(coordinates[['id_loc', 'x_coordinate', 'y_coordinate']], on='id_loc')\n",
    "top_danger_locs = top_danger_locs.drop_duplicates().reset_index(drop=True)\n",
    "top_danger_locs.head()"
   ]
  },
  {
   "cell_type": "code",
   "execution_count": 54,
   "metadata": {
    "executionInfo": {
     "elapsed": 743,
     "status": "ok",
     "timestamp": 1603579830344,
     "user": {
      "displayName": "Mohamed Desouky",
      "photoUrl": "",
      "userId": "09584093266469400790"
     },
     "user_tz": -120
    },
    "id": "CLX-KqShy2Vn"
   },
   "outputs": [],
   "source": [
    "# Add geometry data to the top locations\n",
    "gdf = gpd.GeoDataFrame(top_danger_locs, geometry=gpd.points_from_xy(top_danger_locs['x_coordinate'], top_danger_locs['y_coordinate']))\n",
    "\n",
    "gdf['severity'] = gdf['count'].apply(lambda x: 1 if x >= 10000\n",
    "                                                          else(2 if x < 10000 and x >= 8000\n",
    "                                                              else(3 if x < 8000 and x >= 6000\n",
    "                                                                  else(4 if x < 6000 and x >= 4000\n",
    "                                                                      else(5 if x < 4000 and x >= 2000\n",
    "                                                                          else(6))))))"
   ]
  },
  {
   "cell_type": "markdown",
   "metadata": {
    "id": "lY2SwcBSzBV3"
   },
   "source": [
    "**13. Checking each DataFrame**"
   ]
  },
  {
   "cell_type": "code",
   "execution_count": 62,
   "metadata": {
    "colab": {
     "base_uri": "https://localhost:8080/",
     "height": 111
    },
    "executionInfo": {
     "elapsed": 619,
     "status": "ok",
     "timestamp": 1603580012863,
     "user": {
      "displayName": "Mohamed Desouky",
      "photoUrl": "",
      "userId": "09584093266469400790"
     },
     "user_tz": -120
    },
    "id": "BPmueHZiEW2n",
    "outputId": "e1685892-d5c1-4000-daa1-90644000e415"
   },
   "outputs": [
    {
     "data": {
      "text/html": [
       "<div>\n",
       "<style scoped>\n",
       "    .dataframe tbody tr th:only-of-type {\n",
       "        vertical-align: middle;\n",
       "    }\n",
       "\n",
       "    .dataframe tbody tr th {\n",
       "        vertical-align: top;\n",
       "    }\n",
       "\n",
       "    .dataframe thead th {\n",
       "        text-align: right;\n",
       "    }\n",
       "</style>\n",
       "<table border=\"1\" class=\"dataframe\">\n",
       "  <thead>\n",
       "    <tr style=\"text-align: right;\">\n",
       "      <th></th>\n",
       "      <th>id</th>\n",
       "      <th>primary_type</th>\n",
       "      <th>location_description</th>\n",
       "      <th>arrest</th>\n",
       "      <th>domestic</th>\n",
       "    </tr>\n",
       "  </thead>\n",
       "  <tbody>\n",
       "    <tr>\n",
       "      <th>0</th>\n",
       "      <td>4676906</td>\n",
       "      <td>Other Offense</td>\n",
       "      <td>Residence</td>\n",
       "      <td>False</td>\n",
       "      <td>True</td>\n",
       "    </tr>\n",
       "    <tr>\n",
       "      <th>1</th>\n",
       "      <td>4677901</td>\n",
       "      <td>Theft</td>\n",
       "      <td>Residence</td>\n",
       "      <td>False</td>\n",
       "      <td>False</td>\n",
       "    </tr>\n",
       "  </tbody>\n",
       "</table>\n",
       "</div>"
      ],
      "text/plain": [
       "        id   primary_type location_description  arrest  domestic\n",
       "0  4676906  Other Offense            Residence   False      True\n",
       "1  4677901          Theft            Residence   False     False"
      ]
     },
     "execution_count": 62,
     "metadata": {
      "tags": []
     },
     "output_type": "execute_result"
    }
   ],
   "source": [
    "crimes.head(2)"
   ]
  },
  {
   "cell_type": "code",
   "execution_count": 63,
   "metadata": {
    "colab": {
     "base_uri": "https://localhost:8080/",
     "height": 111
    },
    "executionInfo": {
     "elapsed": 475,
     "status": "ok",
     "timestamp": 1603580013163,
     "user": {
      "displayName": "Mohamed Desouky",
      "photoUrl": "",
      "userId": "09584093266469400790"
     },
     "user_tz": -120
    },
    "id": "h074I_jjJbzJ",
    "outputId": "04692084-4fd1-480f-f69d-c193d02ade61"
   },
   "outputs": [
    {
     "data": {
      "text/html": [
       "<div>\n",
       "<style scoped>\n",
       "    .dataframe tbody tr th:only-of-type {\n",
       "        vertical-align: middle;\n",
       "    }\n",
       "\n",
       "    .dataframe tbody tr th {\n",
       "        vertical-align: top;\n",
       "    }\n",
       "\n",
       "    .dataframe thead th {\n",
       "        text-align: right;\n",
       "    }\n",
       "</style>\n",
       "<table border=\"1\" class=\"dataframe\">\n",
       "  <thead>\n",
       "    <tr style=\"text-align: right;\">\n",
       "      <th></th>\n",
       "      <th>id</th>\n",
       "      <th>block</th>\n",
       "      <th>district</th>\n",
       "      <th>community_area</th>\n",
       "      <th>latitude</th>\n",
       "      <th>longitude</th>\n",
       "      <th>location</th>\n",
       "      <th>geometry</th>\n",
       "      <th>x_and_y</th>\n",
       "    </tr>\n",
       "  </thead>\n",
       "  <tbody>\n",
       "    <tr>\n",
       "      <th>0</th>\n",
       "      <td>4676906</td>\n",
       "      <td>004Xx W 42Nd Pl</td>\n",
       "      <td>9</td>\n",
       "      <td>61</td>\n",
       "      <td>41.8172</td>\n",
       "      <td>-87.637329</td>\n",
       "      <td>(41.817229156, -87.637328162)</td>\n",
       "      <td>POINT (1173974.000 1876757.000)</td>\n",
       "      <td>1173974_1876757</td>\n",
       "    </tr>\n",
       "    <tr>\n",
       "      <th>1</th>\n",
       "      <td>4677901</td>\n",
       "      <td>111Xx S Normal Ave</td>\n",
       "      <td>22</td>\n",
       "      <td>49</td>\n",
       "      <td>41.6918</td>\n",
       "      <td>-87.635117</td>\n",
       "      <td>(41.691784636, -87.635115968)</td>\n",
       "      <td>POINT (1174948.000 1831051.000)</td>\n",
       "      <td>1174948_1831051</td>\n",
       "    </tr>\n",
       "  </tbody>\n",
       "</table>\n",
       "</div>"
      ],
      "text/plain": [
       "        id  ...          x_and_y\n",
       "0  4676906  ...  1173974_1876757\n",
       "1  4677901  ...  1174948_1831051\n",
       "\n",
       "[2 rows x 9 columns]"
      ]
     },
     "execution_count": 63,
     "metadata": {
      "tags": []
     },
     "output_type": "execute_result"
    }
   ],
   "source": [
    "locations.head(2)"
   ]
  },
  {
   "cell_type": "code",
   "execution_count": 64,
   "metadata": {
    "colab": {
     "base_uri": "https://localhost:8080/",
     "height": 111
    },
    "executionInfo": {
     "elapsed": 618,
     "status": "ok",
     "timestamp": 1603580014055,
     "user": {
      "displayName": "Mohamed Desouky",
      "photoUrl": "",
      "userId": "09584093266469400790"
     },
     "user_tz": -120
    },
    "id": "Dp-BlbBaL0vz",
    "outputId": "81af5d78-518d-4bf3-c731-d1ea0d2be81d",
    "scrolled": true
   },
   "outputs": [
    {
     "data": {
      "text/html": [
       "<div>\n",
       "<style scoped>\n",
       "    .dataframe tbody tr th:only-of-type {\n",
       "        vertical-align: middle;\n",
       "    }\n",
       "\n",
       "    .dataframe tbody tr th {\n",
       "        vertical-align: top;\n",
       "    }\n",
       "\n",
       "    .dataframe thead th {\n",
       "        text-align: right;\n",
       "    }\n",
       "</style>\n",
       "<table border=\"1\" class=\"dataframe\">\n",
       "  <thead>\n",
       "    <tr style=\"text-align: right;\">\n",
       "      <th></th>\n",
       "      <th>id</th>\n",
       "      <th>date</th>\n",
       "      <th>year</th>\n",
       "      <th>month</th>\n",
       "      <th>day</th>\n",
       "      <th>weekday</th>\n",
       "    </tr>\n",
       "  </thead>\n",
       "  <tbody>\n",
       "    <tr>\n",
       "      <th>0</th>\n",
       "      <td>4676906</td>\n",
       "      <td>2003-03-01 00:00:00</td>\n",
       "      <td>2003</td>\n",
       "      <td>Mar</td>\n",
       "      <td>1</td>\n",
       "      <td>Sat</td>\n",
       "    </tr>\n",
       "    <tr>\n",
       "      <th>1</th>\n",
       "      <td>4677901</td>\n",
       "      <td>2003-05-01 01:00:00</td>\n",
       "      <td>2003</td>\n",
       "      <td>May</td>\n",
       "      <td>1</td>\n",
       "      <td>Thu</td>\n",
       "    </tr>\n",
       "  </tbody>\n",
       "</table>\n",
       "</div>"
      ],
      "text/plain": [
       "        id                date  year month  day weekday\n",
       "0  4676906 2003-03-01 00:00:00  2003   Mar    1     Sat\n",
       "1  4677901 2003-05-01 01:00:00  2003   May    1     Thu"
      ]
     },
     "execution_count": 64,
     "metadata": {
      "tags": []
     },
     "output_type": "execute_result"
    }
   ],
   "source": [
    "dates.head(2)"
   ]
  },
  {
   "cell_type": "code",
   "execution_count": 65,
   "metadata": {
    "colab": {
     "base_uri": "https://localhost:8080/",
     "height": 111
    },
    "executionInfo": {
     "elapsed": 487,
     "status": "ok",
     "timestamp": 1603580015015,
     "user": {
      "displayName": "Mohamed Desouky",
      "photoUrl": "",
      "userId": "09584093266469400790"
     },
     "user_tz": -120
    },
    "id": "yycxxPh5PQ9g",
    "outputId": "f28753d8-0d6f-4757-b0bf-d93a347acd73"
   },
   "outputs": [
    {
     "data": {
      "text/html": [
       "<div>\n",
       "<style scoped>\n",
       "    .dataframe tbody tr th:only-of-type {\n",
       "        vertical-align: middle;\n",
       "    }\n",
       "\n",
       "    .dataframe tbody tr th {\n",
       "        vertical-align: top;\n",
       "    }\n",
       "\n",
       "    .dataframe thead th {\n",
       "        text-align: right;\n",
       "    }\n",
       "</style>\n",
       "<table border=\"1\" class=\"dataframe\">\n",
       "  <thead>\n",
       "    <tr style=\"text-align: right;\">\n",
       "      <th></th>\n",
       "      <th>id</th>\n",
       "      <th>x_coordinate</th>\n",
       "      <th>y_coordinate</th>\n",
       "      <th>id_loc</th>\n",
       "    </tr>\n",
       "  </thead>\n",
       "  <tbody>\n",
       "    <tr>\n",
       "      <th>0</th>\n",
       "      <td>4676906</td>\n",
       "      <td>1173974</td>\n",
       "      <td>1876757</td>\n",
       "      <td>1173974_1876757</td>\n",
       "    </tr>\n",
       "    <tr>\n",
       "      <th>1</th>\n",
       "      <td>4677901</td>\n",
       "      <td>1174948</td>\n",
       "      <td>1831051</td>\n",
       "      <td>1174948_1831051</td>\n",
       "    </tr>\n",
       "  </tbody>\n",
       "</table>\n",
       "</div>"
      ],
      "text/plain": [
       "        id  x_coordinate  y_coordinate           id_loc\n",
       "0  4676906       1173974       1876757  1173974_1876757\n",
       "1  4677901       1174948       1831051  1174948_1831051"
      ]
     },
     "execution_count": 65,
     "metadata": {
      "tags": []
     },
     "output_type": "execute_result"
    }
   ],
   "source": [
    "coordinates.head(2)"
   ]
  },
  {
   "cell_type": "code",
   "execution_count": 66,
   "metadata": {
    "colab": {
     "base_uri": "https://localhost:8080/",
     "height": 111
    },
    "executionInfo": {
     "elapsed": 590,
     "status": "ok",
     "timestamp": 1603580037427,
     "user": {
      "displayName": "Mohamed Desouky",
      "photoUrl": "",
      "userId": "09584093266469400790"
     },
     "user_tz": -120
    },
    "id": "gyBHyUea0UaP",
    "outputId": "87f26544-1b5d-4fad-da1c-9d855a620fe3"
   },
   "outputs": [
    {
     "data": {
      "text/html": [
       "<div>\n",
       "<style scoped>\n",
       "    .dataframe tbody tr th:only-of-type {\n",
       "        vertical-align: middle;\n",
       "    }\n",
       "\n",
       "    .dataframe tbody tr th {\n",
       "        vertical-align: top;\n",
       "    }\n",
       "\n",
       "    .dataframe thead th {\n",
       "        text-align: right;\n",
       "    }\n",
       "</style>\n",
       "<table border=\"1\" class=\"dataframe\">\n",
       "  <thead>\n",
       "    <tr style=\"text-align: right;\">\n",
       "      <th></th>\n",
       "      <th>id_loc</th>\n",
       "      <th>count</th>\n",
       "      <th>x_coordinate</th>\n",
       "      <th>y_coordinate</th>\n",
       "      <th>geometry</th>\n",
       "      <th>severity</th>\n",
       "    </tr>\n",
       "  </thead>\n",
       "  <tbody>\n",
       "    <tr>\n",
       "      <th>0</th>\n",
       "      <td>1100658_1934241</td>\n",
       "      <td>11867</td>\n",
       "      <td>1100658</td>\n",
       "      <td>1934241</td>\n",
       "      <td>POINT (1100658.000 1934241.000)</td>\n",
       "      <td>1</td>\n",
       "    </tr>\n",
       "    <tr>\n",
       "      <th>1</th>\n",
       "      <td>1145727_1853720</td>\n",
       "      <td>8562</td>\n",
       "      <td>1145727</td>\n",
       "      <td>1853720</td>\n",
       "      <td>POINT (1145727.000 1853720.000)</td>\n",
       "      <td>2</td>\n",
       "    </tr>\n",
       "  </tbody>\n",
       "</table>\n",
       "</div>"
      ],
      "text/plain": [
       "            id_loc  count  ...                         geometry  severity\n",
       "0  1100658_1934241  11867  ...  POINT (1100658.000 1934241.000)         1\n",
       "1  1145727_1853720   8562  ...  POINT (1145727.000 1853720.000)         2\n",
       "\n",
       "[2 rows x 6 columns]"
      ]
     },
     "execution_count": 66,
     "metadata": {
      "tags": []
     },
     "output_type": "execute_result"
    }
   ],
   "source": [
    "top_danger_locs.head(2)"
   ]
  },
  {
   "cell_type": "markdown",
   "metadata": {
    "id": "XWhzCSFy0PaI"
   },
   "source": [
    "**14. Saving to Google Drive**"
   ]
  },
  {
   "cell_type": "code",
   "execution_count": 73,
   "metadata": {
    "executionInfo": {
     "elapsed": 40121,
     "status": "ok",
     "timestamp": 1603581269729,
     "user": {
      "displayName": "Mohamed Desouky",
      "photoUrl": "",
      "userId": "09584093266469400790"
     },
     "user_tz": -120
    },
    "id": "APHrrhdjJlz4"
   },
   "outputs": [],
   "source": [
    "crimes.to_csv('/data_path/crimes.csv', index=False)\n",
    "dates.to_csv('/data_path/dates.csv', index=False)\n",
    "gdf.to_csv('/data_path/top_danger_locs.csv', index=False)\n",
    "#locations.to_csv('/data_path/locations.csv', index=False)\n",
    "#coordinates.to_csv('/data_path/coordinates.csv', index=False)"
   ]
  }
 ],
 "metadata": {
  "colab": {
   "authorship_tag": "ABX9TyOIvALJV5Nq0cDRwsCyL+hC",
   "collapsed_sections": [],
   "name": "Chicago Crimes.ipynb",
   "provenance": []
  },
  "kernelspec": {
   "display_name": "Python 3",
   "language": "python",
   "name": "python3"
  },
  "language_info": {
   "codemirror_mode": {
    "name": "ipython",
    "version": 3
   },
   "file_extension": ".py",
   "mimetype": "text/x-python",
   "name": "python",
   "nbconvert_exporter": "python",
   "pygments_lexer": "ipython3",
   "version": "3.7.7"
  }
 },
 "nbformat": 4,
 "nbformat_minor": 1
}
